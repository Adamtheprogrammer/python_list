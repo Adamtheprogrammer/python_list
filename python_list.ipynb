{
 "cells": [
  {
   "cell_type": "code",
   "execution_count": 2,
   "metadata": {},
   "outputs": [
    {
     "name": "stdout",
     "output_type": "stream",
     "text": [
      "5 + 2 = 7\n",
      "10 - 9 = 1\n",
      "100 + 400 = 500\n"
     ]
    }
   ],
   "source": [
    "print(\"5 + 2 =\", 5+2)\n",
    "print(\"10 - 9 =\", 10-9)\n",
    "print(\"100 + 400 =\", 100+400)"
   ]
  },
  {
   "cell_type": "code",
   "execution_count": 5,
   "metadata": {},
   "outputs": [
    {
     "name": "stdout",
     "output_type": "stream",
     "text": [
      "1 + 2 - 3 * 2 = -3\n",
      "(1 + 2 - 3) * 2 = 0\n"
     ]
    }
   ],
   "source": [
    "print(\"1 + 2 - 3 * 2 =\", 1 + 2 - 3 * 2)\n",
    "print(\"(1 + 2 - 3) * 2 =\", (1 + 2 - 3) * 2)"
   ]
  },
  {
   "cell_type": "code",
   "execution_count": 1,
   "metadata": {},
   "outputs": [
    {
     "name": "stdout",
     "output_type": "stream",
     "text": [
      "I like The Quote \"Always remember you are unique Just \n",
      "like everyone else\"\n"
     ]
    }
   ],
   "source": [
    "quote = \"\\\"Always remember you are unique\"\n",
    "multi_line_quote = '''Just \n",
    "like everyone else\\\"'''\n",
    "print(\"%s %s %s\" % ('I like The Quote', quote, multi_line_quote) )"
   ]
  },
  {
   "cell_type": "code",
   "execution_count": 2,
   "metadata": {},
   "outputs": [
    {
     "name": "stdout",
     "output_type": "stream",
     "text": [
      "I don't like newlines\n"
     ]
    }
   ],
   "source": [
    "print(\"I don't like \", end=\"\")\n",
    "print(\"newlines\")"
   ]
  },
  {
   "cell_type": "code",
   "execution_count": 10,
   "metadata": {},
   "outputs": [
    {
     "name": "stdout",
     "output_type": "stream",
     "text": [
      "\n",
      "This is a new line\n",
      "This is a new line\n",
      "This is a new line\n",
      "This is a new line\n",
      "This is a new line\n"
     ]
    }
   ],
   "source": [
    "print('\\nThis is a new line' * 5)"
   ]
  },
  {
   "cell_type": "code",
   "execution_count": 14,
   "metadata": {},
   "outputs": [
    {
     "name": "stdout",
     "output_type": "stream",
     "text": [
      "First Item is juice\n",
      "First Item Green Juice\n",
      "['tomatoes', 'potatoes']\n",
      "[['Wash Car', 'Pick Up Children', 'Cash Check'], ['Green Juice', 'tomatoes', 'potatoes', 'bananas']]\n"
     ]
    }
   ],
   "source": [
    "grocery_list = ['juice', 'tomatoes', 'potatoes', 'bananas']\n",
    "print('First Item is', grocery_list[0])\n",
    "grocery_list[0] = \"Green Juice\"\n",
    "print(\"First Item\", grocery_list[0])\n",
    "print(grocery_list[1:3])\n",
    "other_events = ['Wash Car', 'Pick Up Children', 'Cash Check']\n",
    "to_do_list = [other_events, grocery_list]\n",
    "print(to_do_list)"
   ]
  },
  {
   "cell_type": "code",
   "execution_count": 15,
   "metadata": {},
   "outputs": [
    {
     "name": "stdout",
     "output_type": "stream",
     "text": [
      "tomatoes\n"
     ]
    }
   ],
   "source": [
    "print((to_do_list[1][1]))"
   ]
  },
  {
   "cell_type": "code",
   "execution_count": 16,
   "metadata": {},
   "outputs": [],
   "source": [
    "grocery_list.append('Apples')"
   ]
  },
  {
   "cell_type": "code",
   "execution_count": 17,
   "metadata": {},
   "outputs": [
    {
     "name": "stdout",
     "output_type": "stream",
     "text": [
      "[['Wash Car', 'Pick Up Children', 'Cash Check'], ['Green Juice', 'tomatoes', 'potatoes', 'bananas', 'Apples']]\n"
     ]
    }
   ],
   "source": [
    "print(to_do_list)"
   ]
  },
  {
   "cell_type": "code",
   "execution_count": 21,
   "metadata": {},
   "outputs": [
    {
     "name": "stdout",
     "output_type": "stream",
     "text": [
      "[['Wash Car', 'Pick Up Children', 'Cash Check'], ['tomatoes', 'bananas', 'Pickle', 'Pickle', 'Apples']]\n",
      "[['Wash Car', 'Pick Up Children', 'Cash Check'], ['tomatoes', 'bananas', 'Pickle', 'Pickle']]\n"
     ]
    }
   ],
   "source": [
    "grocery_list.append('Apples')\n",
    "print(to_do_list)\n",
    "\n",
    "grocery_list.insert(1, \"Pickle\")\n",
    "\n",
    "grocery_list.remove(\"Pickle\")\n",
    "\n",
    "grocery_list.sort()\n",
    "\n",
    "grocery_list.reverse()\n",
    "\n",
    "del grocery_list[4]\n",
    "print(to_do_list)"
   ]
  },
  {
   "cell_type": "code",
   "execution_count": null,
   "metadata": {},
   "outputs": [],
   "source": []
  }
 ],
 "metadata": {
  "kernelspec": {
   "display_name": "Python 3",
   "language": "python",
   "name": "python3"
  },
  "language_info": {
   "codemirror_mode": {
    "name": "ipython",
    "version": 3
   },
   "file_extension": ".py",
   "mimetype": "text/x-python",
   "name": "python",
   "nbconvert_exporter": "python",
   "pygments_lexer": "ipython3",
   "version": "3.6.5"
  }
 },
 "nbformat": 4,
 "nbformat_minor": 2
}
